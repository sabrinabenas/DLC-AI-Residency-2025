{
  "nbformat": 4,
  "nbformat_minor": 0,
  "metadata": {
    "accelerator": "GPU",
    "colab": {
      "provenance": [],
      "collapsed_sections": [
        "I6uFLSPNuDU2",
        "RvAOvfm3yB2d",
        "KjTzUJlMyMpw",
        "ljtC2LPjO_La"
      ]
    },
    "kernelspec": {
      "display_name": "Python 3",
      "name": "python3"
    }
  },
  "cells": [
    {
      "cell_type": "markdown",
      "metadata": {
        "id": "pdZS_2FetjPP"
      },
      "source": [
        "# DeepLabcut"
      ]
    },
    {
      "cell_type": "code",
      "metadata": {
        "colab": {
          "base_uri": "https://localhost:8080/"
        },
        "id": "E0i8uO2uiMBB",
        "outputId": "15b4c774-aa64-4feb-dd1f-6961ae6a3cee"
      },
      "source": [
        "# El proyecto se crea usando la GUI del DLC, este mismo lo subi al drive. Con el siguiente codigo \"subo\" mi drive al colab\n",
        "# # La creacion del proyecto y marcar (labels) las imagenes lo realize en mi computadora, en el colab solo se entrena , se analiza y se refina el algoritmo\n",
        "\n",
        "from google.colab import drive\n",
        "drive.mount('/content/drive')"
      ],
      "execution_count": null,
      "outputs": [
        {
          "output_type": "stream",
          "name": "stdout",
          "text": [
            "Mounted at /content/drive\n"
          ]
        }
      ]
    },
    {
      "cell_type": "markdown",
      "metadata": {
        "id": "I6uFLSPNuDU2"
      },
      "source": [
        "### cargamos y preparamos los datos\n",
        "\n"
      ]
    },
    {
      "cell_type": "code",
      "source": [
        "!pip install \"deeplabcut[tf]\""
      ],
      "metadata": {
        "id": "UMaOIq4Pr-D5"
      },
      "execution_count": null,
      "outputs": []
    },
    {
      "cell_type": "markdown",
      "source": [
        "Asegurate de clickear **\"RESTART RUNTIME\"** si lo muestra antes de seguir!"
      ],
      "metadata": {
        "id": "RoBh99ITK7lr"
      }
    },
    {
      "cell_type": "code",
      "metadata": {
        "id": "ASjIe-CKkZPH"
      },
      "source": [
        "# Importamos el DLC y\n",
        "import deeplabcut"
      ],
      "execution_count": null,
      "outputs": []
    },
    {
      "cell_type": "code",
      "metadata": {
        "id": "mSCBO1LTkdEG"
      },
      "source": [
        "# Creo una variable con el path de la config.yaml\n",
        "path_config_file = '/content/drive/MyDrive/...../config.yaml'"
      ],
      "execution_count": null,
      "outputs": []
    },
    {
      "cell_type": "code",
      "metadata": {
        "id": "YtmfXovAkrmF",
        "colab": {
          "base_uri": "https://localhost:8080/"
        },
        "outputId": "c4956f39-53ac-4abc-adc9-22a30bcaeb4b"
      },
      "source": [
        "deeplabcut.create_training_dataset(path_config_file) #creo el training dataset (es decir que imagenes van al train y cuales al test)"
      ],
      "execution_count": null,
      "outputs": [
        {
          "output_type": "stream",
          "name": "stdout",
          "text": [
            "Downloading a ImageNet-pretrained model from http://download.tensorflow.org/models/resnet_v1_50_2016_08_28.tar.gz....\n",
            "The training dataset is successfully created. Use the function 'train_network' to start training. Happy training!\n"
          ]
        },
        {
          "output_type": "execute_result",
          "data": {
            "text/plain": [
              "[(0.95,\n",
              "  1,\n",
              "  (array([18,  1, 19,  8, 10, 17,  6, 13,  4,  2,  5, 14,  9,  7, 16, 11,  3,\n",
              "           0, 15]),\n",
              "   array([12])))]"
            ]
          },
          "metadata": {},
          "execution_count": 3
        }
      ]
    },
    {
      "cell_type": "code",
      "source": [],
      "metadata": {
        "id": "hIO-bwiBz0JX"
      },
      "execution_count": null,
      "outputs": []
    },
    {
      "cell_type": "markdown",
      "metadata": {
        "id": "RvAOvfm3yB2d"
      },
      "source": [
        "### Entrenamiento"
      ]
    },
    {
      "cell_type": "code",
      "metadata": {
        "colab": {
          "base_uri": "https://localhost:8080/",
          "height": 1000
        },
        "id": "sMP5vC2ilfaC",
        "outputId": "0e3d5cf8-ef1b-4653-bf68-cce103c3aa1a"
      },
      "source": [
        "# Comenzamos a entrenar ! ==> segun el protocolo podemos tendiramos que entrenar en el orden de las 100K iteraciones o mas\n",
        "deeplabcut.train_network(path_config_file, shuffle=1, displayiters=1000,saveiters=15000)"
      ],
      "execution_count": null,
      "outputs": [
        {
          "metadata": {
            "tags": null
          },
          "name": "stderr",
          "output_type": "stream",
          "text": [
            "Config:\n",
            "{'all_joints': [[0], [1], [2]],\n",
            " 'all_joints_names': ['head', 'body', 'tail'],\n",
            " 'alpha_r': 0.02,\n",
            " 'apply_prob': 0.5,\n",
            " 'batch_size': 1,\n",
            " 'contrast': {'clahe': True,\n",
            "              'claheratio': 0.1,\n",
            "              'histeq': True,\n",
            "              'histeqratio': 0.1},\n",
            " 'convolution': {'edge': False,\n",
            "                 'emboss': {'alpha': [0.0, 1.0], 'strength': [0.5, 1.5]},\n",
            "                 'embossratio': 0.1,\n",
            "                 'sharpen': False,\n",
            "                 'sharpenratio': 0.3},\n",
            " 'crop_pad': 0,\n",
            " 'cropratio': 0.4,\n",
            " 'dataset': 'training-datasets/iteration-0/UnaugmentedDataSet_sabriNov8/sabri_sabri95shuffle1.mat',\n",
            " 'dataset_type': 'default',\n",
            " 'decay_steps': 30000,\n",
            " 'deterministic': False,\n",
            " 'display_iters': 1000,\n",
            " 'fg_fraction': 0.25,\n",
            " 'global_scale': 0.8,\n",
            " 'init_weights': '/usr/local/lib/python3.10/dist-packages/deeplabcut/pose_estimation_tensorflow/models/pretrained/resnet_v1_50.ckpt',\n",
            " 'intermediate_supervision': False,\n",
            " 'intermediate_supervision_layer': 12,\n",
            " 'location_refinement': True,\n",
            " 'locref_huber_loss': True,\n",
            " 'locref_loss_weight': 0.05,\n",
            " 'locref_stdev': 7.2801,\n",
            " 'log_dir': 'log',\n",
            " 'lr_init': 0.0005,\n",
            " 'max_input_size': 1500,\n",
            " 'mean_pixel': [123.68, 116.779, 103.939],\n",
            " 'metadataset': 'training-datasets/iteration-0/UnaugmentedDataSet_sabriNov8/Documentation_data-sabri_95shuffle1.pickle',\n",
            " 'min_input_size': 64,\n",
            " 'mirror': False,\n",
            " 'multi_stage': False,\n",
            " 'multi_step': [[0.005, 10000],\n",
            "                [0.02, 430000],\n",
            "                [0.002, 730000],\n",
            "                [0.001, 1030000]],\n",
            " 'net_type': 'resnet_50',\n",
            " 'num_joints': 3,\n",
            " 'optimizer': 'sgd',\n",
            " 'pairwise_huber_loss': False,\n",
            " 'pairwise_predict': False,\n",
            " 'partaffinityfield_predict': False,\n",
            " 'pos_dist_thresh': 17,\n",
            " 'project_path': '/content/drive/MyDrive/CAJAL DLC/sabri-sabri-2023-11-08',\n",
            " 'regularize': False,\n",
            " 'rotation': 25,\n",
            " 'rotratio': 0.4,\n",
            " 'save_iters': 50000,\n",
            " 'scale_jitter_lo': 0.5,\n",
            " 'scale_jitter_up': 1.25,\n",
            " 'scoremap_dir': 'test',\n",
            " 'shuffle': True,\n",
            " 'snapshot_prefix': '/content/drive/MyDrive/CAJAL '\n",
            "                    'DLC/sabri-sabri-2023-11-08/dlc-models/iteration-0/sabriNov8-trainset95shuffle1/train/snapshot',\n",
            " 'stride': 8.0,\n",
            " 'weigh_negatives': False,\n",
            " 'weigh_only_present_joints': False,\n",
            " 'weigh_part_predictions': False,\n",
            " 'weight_decay': 0.0001}\n"
          ]
        },
        {
          "metadata": {
            "tags": null
          },
          "name": "stdout",
          "output_type": "stream",
          "text": [
            "Selecting single-animal trainer\n",
            "Batch Size is 1\n"
          ]
        },
        {
          "metadata": {
            "tags": null
          },
          "name": "stderr",
          "output_type": "stream",
          "text": [
            "/usr/local/lib/python3.10/dist-packages/tensorflow/python/keras/engine/base_layer_v1.py:1694: UserWarning: `layer.apply` is deprecated and will be removed in a future version. Please use `layer.__call__` method instead.\n",
            "  warnings.warn('`layer.apply` is deprecated and '\n"
          ]
        },
        {
          "metadata": {
            "tags": null
          },
          "name": "stdout",
          "output_type": "stream",
          "text": [
            "Loading ImageNet-pretrained resnet_50\n",
            "Display_iters overwritten as 5000\n",
            "Save_iters overwritten as 15000\n",
            "Training parameter:\n",
            "{'stride': 8.0, 'weigh_part_predictions': False, 'weigh_negatives': False, 'fg_fraction': 0.25, 'mean_pixel': [123.68, 116.779, 103.939], 'shuffle': True, 'snapshot_prefix': '/content/drive/MyDrive/CAJAL DLC/sabri-sabri-2023-11-08/dlc-models/iteration-0/sabriNov8-trainset95shuffle1/train/snapshot', 'log_dir': 'log', 'global_scale': 0.8, 'location_refinement': True, 'locref_stdev': 7.2801, 'locref_loss_weight': 0.05, 'locref_huber_loss': True, 'optimizer': 'sgd', 'intermediate_supervision': False, 'intermediate_supervision_layer': 12, 'regularize': False, 'weight_decay': 0.0001, 'crop_pad': 0, 'scoremap_dir': 'test', 'batch_size': 1, 'dataset_type': 'default', 'deterministic': False, 'mirror': False, 'pairwise_huber_loss': False, 'weigh_only_present_joints': False, 'partaffinityfield_predict': False, 'pairwise_predict': False, 'all_joints': [[0], [1], [2]], 'all_joints_names': ['head', 'body', 'tail'], 'alpha_r': 0.02, 'apply_prob': 0.5, 'contrast': {'clahe': True, 'claheratio': 0.1, 'histeq': True, 'histeqratio': 0.1, 'gamma': False, 'sigmoid': False, 'log': False, 'linear': False}, 'convolution': {'edge': False, 'emboss': {'alpha': [0.0, 1.0], 'strength': [0.5, 1.5]}, 'embossratio': 0.1, 'sharpen': False, 'sharpenratio': 0.3}, 'cropratio': 0.4, 'dataset': 'training-datasets/iteration-0/UnaugmentedDataSet_sabriNov8/sabri_sabri95shuffle1.mat', 'decay_steps': 30000, 'display_iters': 1000, 'init_weights': '/usr/local/lib/python3.10/dist-packages/deeplabcut/pose_estimation_tensorflow/models/pretrained/resnet_v1_50.ckpt', 'lr_init': 0.0005, 'max_input_size': 1500, 'metadataset': 'training-datasets/iteration-0/UnaugmentedDataSet_sabriNov8/Documentation_data-sabri_95shuffle1.pickle', 'min_input_size': 64, 'multi_stage': False, 'multi_step': [[0.005, 10000], [0.02, 430000], [0.002, 730000], [0.001, 1030000]], 'net_type': 'resnet_50', 'num_joints': 3, 'pos_dist_thresh': 17, 'project_path': '/content/drive/MyDrive/CAJAL DLC/sabri-sabri-2023-11-08', 'rotation': 25, 'rotratio': 0.4, 'save_iters': 50000, 'scale_jitter_lo': 0.5, 'scale_jitter_up': 1.25, 'covering': True, 'elastic_transform': True, 'motion_blur': True, 'motion_blur_params': {'k': 7, 'angle': (-90, 90)}}\n",
            "Starting training....\n"
          ]
        },
        {
          "metadata": {
            "tags": null
          },
          "name": "stderr",
          "output_type": "stream",
          "text": [
            "iteration: 5000 loss: 0.0091 lr: 0.005\n",
            "iteration: 10000 loss: 0.0043 lr: 0.005\n",
            "iteration: 15000 loss: 0.0044 lr: 0.02\n",
            "iteration: 20000 loss: 0.0034 lr: 0.02\n",
            "iteration: 25000 loss: 0.0031 lr: 0.02\n"
          ]
        },
        {
          "output_type": "error",
          "ename": "KeyboardInterrupt",
          "evalue": "ignored",
          "traceback": [
            "\u001b[0;31m---------------------------------------------------------------------------\u001b[0m",
            "\u001b[0;31mKeyboardInterrupt\u001b[0m                         Traceback (most recent call last)",
            "\u001b[0;32m<ipython-input-4-b6239f08c05a>\u001b[0m in \u001b[0;36m<cell line: 2>\u001b[0;34m()\u001b[0m\n\u001b[1;32m      1\u001b[0m \u001b[0;31m# Comenzamos a entrenar ! ==> segun el protocolo podemos tendiramos que entrenar en el orden de las 100K iteraciones o mas\u001b[0m\u001b[0;34m\u001b[0m\u001b[0;34m\u001b[0m\u001b[0m\n\u001b[0;32m----> 2\u001b[0;31m \u001b[0mdeeplabcut\u001b[0m\u001b[0;34m.\u001b[0m\u001b[0mtrain_network\u001b[0m\u001b[0;34m(\u001b[0m\u001b[0mpath_config_file\u001b[0m\u001b[0;34m,\u001b[0m \u001b[0mshuffle\u001b[0m\u001b[0;34m=\u001b[0m\u001b[0;36m1\u001b[0m\u001b[0;34m,\u001b[0m \u001b[0mdisplayiters\u001b[0m\u001b[0;34m=\u001b[0m\u001b[0;36m5000\u001b[0m\u001b[0;34m,\u001b[0m\u001b[0msaveiters\u001b[0m\u001b[0;34m=\u001b[0m\u001b[0;36m15000\u001b[0m\u001b[0;34m)\u001b[0m\u001b[0;34m\u001b[0m\u001b[0;34m\u001b[0m\u001b[0m\n\u001b[0m",
            "\u001b[0;32m/usr/local/lib/python3.10/dist-packages/deeplabcut/pose_estimation_tensorflow/training.py\u001b[0m in \u001b[0;36mtrain_network\u001b[0;34m(config, shuffle, trainingsetindex, max_snapshots_to_keep, displayiters, saveiters, maxiters, allow_growth, gputouse, autotune, keepdeconvweights, modelprefix, superanimal_name, superanimal_transfer_learning)\u001b[0m\n\u001b[1;32m    282\u001b[0m \u001b[0;34m\u001b[0m\u001b[0m\n\u001b[1;32m    283\u001b[0m     \u001b[0;32mexcept\u001b[0m \u001b[0mBaseException\u001b[0m \u001b[0;32mas\u001b[0m \u001b[0me\u001b[0m\u001b[0;34m:\u001b[0m\u001b[0;34m\u001b[0m\u001b[0;34m\u001b[0m\u001b[0m\n\u001b[0;32m--> 284\u001b[0;31m         \u001b[0;32mraise\u001b[0m \u001b[0me\u001b[0m\u001b[0;34m\u001b[0m\u001b[0;34m\u001b[0m\u001b[0m\n\u001b[0m\u001b[1;32m    285\u001b[0m     \u001b[0;32mfinally\u001b[0m\u001b[0;34m:\u001b[0m\u001b[0;34m\u001b[0m\u001b[0;34m\u001b[0m\u001b[0m\n\u001b[1;32m    286\u001b[0m         \u001b[0mos\u001b[0m\u001b[0;34m.\u001b[0m\u001b[0mchdir\u001b[0m\u001b[0;34m(\u001b[0m\u001b[0mstr\u001b[0m\u001b[0;34m(\u001b[0m\u001b[0mstart_path\u001b[0m\u001b[0;34m)\u001b[0m\u001b[0;34m)\u001b[0m\u001b[0;34m\u001b[0m\u001b[0;34m\u001b[0m\u001b[0m\n",
            "\u001b[0;32m/usr/local/lib/python3.10/dist-packages/deeplabcut/pose_estimation_tensorflow/training.py\u001b[0m in \u001b[0;36mtrain_network\u001b[0;34m(config, shuffle, trainingsetindex, max_snapshots_to_keep, displayiters, saveiters, maxiters, allow_growth, gputouse, autotune, keepdeconvweights, modelprefix, superanimal_name, superanimal_transfer_learning)\u001b[0m\n\u001b[1;32m    271\u001b[0m \u001b[0;34m\u001b[0m\u001b[0m\n\u001b[1;32m    272\u001b[0m             \u001b[0mprint\u001b[0m\u001b[0;34m(\u001b[0m\u001b[0;34m\"Selecting single-animal trainer\"\u001b[0m\u001b[0;34m)\u001b[0m\u001b[0;34m\u001b[0m\u001b[0;34m\u001b[0m\u001b[0m\n\u001b[0;32m--> 273\u001b[0;31m             train(\n\u001b[0m\u001b[1;32m    274\u001b[0m                 \u001b[0mstr\u001b[0m\u001b[0;34m(\u001b[0m\u001b[0mposeconfigfile\u001b[0m\u001b[0;34m)\u001b[0m\u001b[0;34m,\u001b[0m\u001b[0;34m\u001b[0m\u001b[0;34m\u001b[0m\u001b[0m\n\u001b[1;32m    275\u001b[0m                 \u001b[0mdisplayiters\u001b[0m\u001b[0;34m,\u001b[0m\u001b[0;34m\u001b[0m\u001b[0;34m\u001b[0m\u001b[0m\n",
            "\u001b[0;32m/usr/local/lib/python3.10/dist-packages/deeplabcut/pose_estimation_tensorflow/core/train.py\u001b[0m in \u001b[0;36mtrain\u001b[0;34m(config_yaml, displayiters, saveiters, maxiters, max_to_keep, keepdeconvweights, allow_growth)\u001b[0m\n\u001b[1;32m    285\u001b[0m             \u001b[0mlr_dict\u001b[0m \u001b[0;34m=\u001b[0m \u001b[0;34m{\u001b[0m\u001b[0mlearning_rate\u001b[0m\u001b[0;34m:\u001b[0m \u001b[0mcurrent_lr\u001b[0m\u001b[0;34m}\u001b[0m\u001b[0;34m\u001b[0m\u001b[0;34m\u001b[0m\u001b[0m\n\u001b[1;32m    286\u001b[0m \u001b[0;34m\u001b[0m\u001b[0m\n\u001b[0;32m--> 287\u001b[0;31m         [_, loss_val, summary] = sess.run(\n\u001b[0m\u001b[1;32m    288\u001b[0m             \u001b[0;34m[\u001b[0m\u001b[0mtrain_op\u001b[0m\u001b[0;34m,\u001b[0m \u001b[0mtotal_loss\u001b[0m\u001b[0;34m,\u001b[0m \u001b[0mmerged_summaries\u001b[0m\u001b[0;34m]\u001b[0m\u001b[0;34m,\u001b[0m \u001b[0mfeed_dict\u001b[0m\u001b[0;34m=\u001b[0m\u001b[0mlr_dict\u001b[0m\u001b[0;34m\u001b[0m\u001b[0;34m\u001b[0m\u001b[0m\n\u001b[1;32m    289\u001b[0m         )\n",
            "\u001b[0;32m/usr/local/lib/python3.10/dist-packages/tensorflow/python/client/session.py\u001b[0m in \u001b[0;36mrun\u001b[0;34m(self, fetches, feed_dict, options, run_metadata)\u001b[0m\n\u001b[1;32m    966\u001b[0m \u001b[0;34m\u001b[0m\u001b[0m\n\u001b[1;32m    967\u001b[0m     \u001b[0;32mtry\u001b[0m\u001b[0;34m:\u001b[0m\u001b[0;34m\u001b[0m\u001b[0;34m\u001b[0m\u001b[0m\n\u001b[0;32m--> 968\u001b[0;31m       result = self._run(None, fetches, feed_dict, options_ptr,\n\u001b[0m\u001b[1;32m    969\u001b[0m                          run_metadata_ptr)\n\u001b[1;32m    970\u001b[0m       \u001b[0;32mif\u001b[0m \u001b[0mrun_metadata\u001b[0m\u001b[0;34m:\u001b[0m\u001b[0;34m\u001b[0m\u001b[0;34m\u001b[0m\u001b[0m\n",
            "\u001b[0;32m/usr/local/lib/python3.10/dist-packages/tensorflow/python/client/session.py\u001b[0m in \u001b[0;36m_run\u001b[0;34m(self, handle, fetches, feed_dict, options, run_metadata)\u001b[0m\n\u001b[1;32m   1189\u001b[0m     \u001b[0;31m# or if the call is a partial run that specifies feeds.\u001b[0m\u001b[0;34m\u001b[0m\u001b[0;34m\u001b[0m\u001b[0m\n\u001b[1;32m   1190\u001b[0m     \u001b[0;32mif\u001b[0m \u001b[0mfinal_fetches\u001b[0m \u001b[0;32mor\u001b[0m \u001b[0mfinal_targets\u001b[0m \u001b[0;32mor\u001b[0m \u001b[0;34m(\u001b[0m\u001b[0mhandle\u001b[0m \u001b[0;32mand\u001b[0m \u001b[0mfeed_dict_tensor\u001b[0m\u001b[0;34m)\u001b[0m\u001b[0;34m:\u001b[0m\u001b[0;34m\u001b[0m\u001b[0;34m\u001b[0m\u001b[0m\n\u001b[0;32m-> 1191\u001b[0;31m       results = self._do_run(handle, final_targets, final_fetches,\n\u001b[0m\u001b[1;32m   1192\u001b[0m                              feed_dict_tensor, options, run_metadata)\n\u001b[1;32m   1193\u001b[0m     \u001b[0;32melse\u001b[0m\u001b[0;34m:\u001b[0m\u001b[0;34m\u001b[0m\u001b[0;34m\u001b[0m\u001b[0m\n",
            "\u001b[0;32m/usr/local/lib/python3.10/dist-packages/tensorflow/python/client/session.py\u001b[0m in \u001b[0;36m_do_run\u001b[0;34m(self, handle, target_list, fetch_list, feed_dict, options, run_metadata)\u001b[0m\n\u001b[1;32m   1369\u001b[0m \u001b[0;34m\u001b[0m\u001b[0m\n\u001b[1;32m   1370\u001b[0m     \u001b[0;32mif\u001b[0m \u001b[0mhandle\u001b[0m \u001b[0;32mis\u001b[0m \u001b[0;32mNone\u001b[0m\u001b[0;34m:\u001b[0m\u001b[0;34m\u001b[0m\u001b[0;34m\u001b[0m\u001b[0m\n\u001b[0;32m-> 1371\u001b[0;31m       return self._do_call(_run_fn, feeds, fetches, targets, options,\n\u001b[0m\u001b[1;32m   1372\u001b[0m                            run_metadata)\n\u001b[1;32m   1373\u001b[0m     \u001b[0;32melse\u001b[0m\u001b[0;34m:\u001b[0m\u001b[0;34m\u001b[0m\u001b[0;34m\u001b[0m\u001b[0m\n",
            "\u001b[0;32m/usr/local/lib/python3.10/dist-packages/tensorflow/python/client/session.py\u001b[0m in \u001b[0;36m_do_call\u001b[0;34m(self, fn, *args)\u001b[0m\n\u001b[1;32m   1376\u001b[0m   \u001b[0;32mdef\u001b[0m \u001b[0m_do_call\u001b[0m\u001b[0;34m(\u001b[0m\u001b[0mself\u001b[0m\u001b[0;34m,\u001b[0m \u001b[0mfn\u001b[0m\u001b[0;34m,\u001b[0m \u001b[0;34m*\u001b[0m\u001b[0margs\u001b[0m\u001b[0;34m)\u001b[0m\u001b[0;34m:\u001b[0m\u001b[0;34m\u001b[0m\u001b[0;34m\u001b[0m\u001b[0m\n\u001b[1;32m   1377\u001b[0m     \u001b[0;32mtry\u001b[0m\u001b[0;34m:\u001b[0m\u001b[0;34m\u001b[0m\u001b[0;34m\u001b[0m\u001b[0m\n\u001b[0;32m-> 1378\u001b[0;31m       \u001b[0;32mreturn\u001b[0m \u001b[0mfn\u001b[0m\u001b[0;34m(\u001b[0m\u001b[0;34m*\u001b[0m\u001b[0margs\u001b[0m\u001b[0;34m)\u001b[0m\u001b[0;34m\u001b[0m\u001b[0;34m\u001b[0m\u001b[0m\n\u001b[0m\u001b[1;32m   1379\u001b[0m     \u001b[0;32mexcept\u001b[0m \u001b[0merrors\u001b[0m\u001b[0;34m.\u001b[0m\u001b[0mOpError\u001b[0m \u001b[0;32mas\u001b[0m \u001b[0me\u001b[0m\u001b[0;34m:\u001b[0m\u001b[0;34m\u001b[0m\u001b[0;34m\u001b[0m\u001b[0m\n\u001b[1;32m   1380\u001b[0m       \u001b[0mmessage\u001b[0m \u001b[0;34m=\u001b[0m \u001b[0mcompat\u001b[0m\u001b[0;34m.\u001b[0m\u001b[0mas_text\u001b[0m\u001b[0;34m(\u001b[0m\u001b[0me\u001b[0m\u001b[0;34m.\u001b[0m\u001b[0mmessage\u001b[0m\u001b[0;34m)\u001b[0m\u001b[0;34m\u001b[0m\u001b[0;34m\u001b[0m\u001b[0m\n",
            "\u001b[0;32m/usr/local/lib/python3.10/dist-packages/tensorflow/python/client/session.py\u001b[0m in \u001b[0;36m_run_fn\u001b[0;34m(feed_dict, fetch_list, target_list, options, run_metadata)\u001b[0m\n\u001b[1;32m   1359\u001b[0m       \u001b[0;31m# Ensure any changes to the graph are reflected in the runtime.\u001b[0m\u001b[0;34m\u001b[0m\u001b[0;34m\u001b[0m\u001b[0m\n\u001b[1;32m   1360\u001b[0m       \u001b[0mself\u001b[0m\u001b[0;34m.\u001b[0m\u001b[0m_extend_graph\u001b[0m\u001b[0;34m(\u001b[0m\u001b[0;34m)\u001b[0m\u001b[0;34m\u001b[0m\u001b[0;34m\u001b[0m\u001b[0m\n\u001b[0;32m-> 1361\u001b[0;31m       return self._call_tf_sessionrun(options, feed_dict, fetch_list,\n\u001b[0m\u001b[1;32m   1362\u001b[0m                                       target_list, run_metadata)\n\u001b[1;32m   1363\u001b[0m \u001b[0;34m\u001b[0m\u001b[0m\n",
            "\u001b[0;32m/usr/local/lib/python3.10/dist-packages/tensorflow/python/client/session.py\u001b[0m in \u001b[0;36m_call_tf_sessionrun\u001b[0;34m(self, options, feed_dict, fetch_list, target_list, run_metadata)\u001b[0m\n\u001b[1;32m   1452\u001b[0m   def _call_tf_sessionrun(self, options, feed_dict, fetch_list, target_list,\n\u001b[1;32m   1453\u001b[0m                           run_metadata):\n\u001b[0;32m-> 1454\u001b[0;31m     return tf_session.TF_SessionRun_wrapper(self._session, options, feed_dict,\n\u001b[0m\u001b[1;32m   1455\u001b[0m                                             \u001b[0mfetch_list\u001b[0m\u001b[0;34m,\u001b[0m \u001b[0mtarget_list\u001b[0m\u001b[0;34m,\u001b[0m\u001b[0;34m\u001b[0m\u001b[0;34m\u001b[0m\u001b[0m\n\u001b[1;32m   1456\u001b[0m                                             run_metadata)\n",
            "\u001b[0;31mKeyboardInterrupt\u001b[0m: "
          ]
        }
      ]
    },
    {
      "cell_type": "code",
      "source": [
        "deeplabcut.evaluate_network(path_config_file,Shuffles=[1], plotting=True) # para evaluar"
      ],
      "metadata": {
        "id": "rs-O0dixv4Ty"
      },
      "execution_count": null,
      "outputs": []
    },
    {
      "cell_type": "markdown",
      "metadata": {
        "id": "KjTzUJlMyMpw"
      },
      "source": [
        "### Analisis\n",
        "Ahora nos queda analizar todo el video completo, es decir, pasarselo a la red para que nos de las etiquetas en todos los frames que no etiquetamos  "
      ]
    },
    {
      "cell_type": "code",
      "metadata": {
        "id": "D1NJoMP8nuzA"
      },
      "source": [
        "path_config_file =  '/content/drive/MyDrive/.../config.yaml'\n",
        "videofile_path =  ['/content/drive/MyDrive/.../0.avi']"
      ],
      "execution_count": null,
      "outputs": []
    },
    {
      "cell_type": "code",
      "metadata": {
        "colab": {
          "base_uri": "https://localhost:8080/",
          "height": 932
        },
        "id": "fD3d25QXpnlJ",
        "outputId": "9a1acaca-e33a-4b85-da1a-053c406e2acf"
      },
      "source": [
        "# Analizamos la lista anterior\n",
        "# el archivo .h5 es el que tiene las poses, se puede pasar a csv para leerlo mas facil\n",
        "deeplabcut.analyze_videos(path_config_file,videofile_path,save_as_csv=True, auto_track = True)"
      ],
      "execution_count": null,
      "outputs": [
        {
          "output_type": "stream",
          "name": "stderr",
          "text": [
            "Config:\n",
            "{'all_joints': [[0], [1], [2]],\n",
            " 'all_joints_names': ['head', 'body', 'tail'],\n",
            " 'batch_size': 1,\n",
            " 'crop_pad': 0,\n",
            " 'dataset': 'training-datasets/iteration-0/UnaugmentedDataSet_sabriNov8/sabri_sabri95shuffle1.mat',\n",
            " 'dataset_type': 'imgaug',\n",
            " 'deterministic': False,\n",
            " 'fg_fraction': 0.25,\n",
            " 'global_scale': 0.8,\n",
            " 'init_weights': '/usr/local/lib/python3.10/dist-packages/deeplabcut/pose_estimation_tensorflow/models/pretrained/resnet_v1_50.ckpt',\n",
            " 'intermediate_supervision': False,\n",
            " 'intermediate_supervision_layer': 12,\n",
            " 'location_refinement': True,\n",
            " 'locref_huber_loss': True,\n",
            " 'locref_loss_weight': 1.0,\n",
            " 'locref_stdev': 7.2801,\n",
            " 'log_dir': 'log',\n",
            " 'mean_pixel': [123.68, 116.779, 103.939],\n",
            " 'mirror': False,\n",
            " 'net_type': 'resnet_50',\n",
            " 'num_joints': 3,\n",
            " 'optimizer': 'sgd',\n",
            " 'pairwise_huber_loss': True,\n",
            " 'pairwise_predict': False,\n",
            " 'partaffinityfield_predict': False,\n",
            " 'regularize': False,\n",
            " 'scoremap_dir': 'test',\n",
            " 'shuffle': True,\n",
            " 'snapshot_prefix': '/content/drive/MyDrive/CAJAL '\n",
            "                    'DLC/sabri-sabri-2023-11-08/dlc-models/iteration-0/sabriNov8-trainset95shuffle1/test/snapshot',\n",
            " 'stride': 8.0,\n",
            " 'weigh_negatives': False,\n",
            " 'weigh_only_present_joints': False,\n",
            " 'weigh_part_predictions': False,\n",
            " 'weight_decay': 0.0001}\n",
            "/usr/local/lib/python3.10/dist-packages/tensorflow/python/keras/engine/base_layer_v1.py:1694: UserWarning: `layer.apply` is deprecated and will be removed in a future version. Please use `layer.__call__` method instead.\n",
            "  warnings.warn('`layer.apply` is deprecated and '\n"
          ]
        },
        {
          "output_type": "stream",
          "name": "stdout",
          "text": [
            "Using snapshot-15000 for model /content/drive/MyDrive/CAJAL DLC/sabri-sabri-2023-11-08/dlc-models/iteration-0/sabriNov8-trainset95shuffle1\n",
            "Starting to analyze %  /content/drive/MyDrive/CAJAL DLC/sabri-sabri-2023-11-08/videos/0.avi\n",
            "Loading  /content/drive/MyDrive/CAJAL DLC/sabri-sabri-2023-11-08/videos/0.avi\n",
            "Duration of video [s]:  16.67 , recorded with  60.0 fps!\n",
            "Overall # of frames:  1000  found with (before cropping) frame dimensions:  640 480\n",
            "Starting to extract posture\n"
          ]
        },
        {
          "output_type": "stream",
          "name": "stderr",
          "text": [
            "100%|██████████| 1000/1000 [00:25<00:00, 38.89it/s]\n"
          ]
        },
        {
          "output_type": "stream",
          "name": "stdout",
          "text": [
            "Saving results in /content/drive/MyDrive/CAJAL DLC/sabri-sabri-2023-11-08/videos...\n",
            "The videos are analyzed. Now your research can truly start! \n",
            " You can create labeled videos with 'create_labeled_video'\n",
            "If the tracking is not satisfactory for some videos, consider expanding the training set. You can use the function 'extract_outlier_frames' to extract a few representative outlier frames.\n"
          ]
        },
        {
          "output_type": "execute_result",
          "data": {
            "text/plain": [
              "'DLC_resnet50_sabriNov8shuffle1_15000'"
            ],
            "application/vnd.google.colaboratory.intrinsic+json": {
              "type": "string"
            }
          },
          "metadata": {},
          "execution_count": 11
        }
      ]
    },
    {
      "cell_type": "markdown",
      "source": [
        "Podemos exportar el modelo para poder usarlo mas tarde o en DLC-live https://deeplabcut.github.io/DeepLabCut/docs/HelperFunctions.html?highlight=export%20model\n"
      ],
      "metadata": {
        "id": "3IukPulb3ONv"
      }
    },
    {
      "cell_type": "code",
      "metadata": {
        "id": "D4lAoY4ySZak",
        "colab": {
          "base_uri": "https://localhost:8080/"
        },
        "outputId": "3263fe36-9788-44ce-aa48-246ca78136c5"
      },
      "source": [
        "\n",
        "#deeplabcut.export_model(cfg_path, iteration=None, shuffle=1, trainingsetindex=0, snapshotindex=None, TFGPUinference=True, overwrite=False, make_tar=True)\n",
        "#deeplabcut.export_model(path_config_file)"
      ],
      "execution_count": null,
      "outputs": [
        {
          "output_type": "stream",
          "name": "stderr",
          "text": [
            "/usr/local/lib/python3.7/dist-packages/tensorflow/python/keras/engine/base_layer_v1.py:1694: UserWarning: `layer.apply` is deprecated and will be removed in a future version. Please use `layer.__call__` method instead.\n",
            "  warnings.warn('`layer.apply` is deprecated and '\n"
          ]
        }
      ]
    },
    {
      "cell_type": "code",
      "metadata": {
        "colab": {
          "base_uri": "https://localhost:8080/"
        },
        "id": "h6pWCGwvq4eN",
        "outputId": "b87d857b-f8eb-4c03-e33f-1f0124600034"
      },
      "source": [
        "# podemos graficar las trayectorias\n",
        "deeplabcut.plot_trajectories(path_config_file,videofile_path)"
      ],
      "execution_count": null,
      "outputs": [
        {
          "output_type": "stream",
          "name": "stdout",
          "text": [
            "Loading  /content/drive/MyDrive/CAJAL DLC/sabri-sabri-2023-11-08/videos/0.avi and data.\n",
            "Plots created! Please check the directory \"plot-poses\" within the video directory\n"
          ]
        }
      ]
    },
    {
      "cell_type": "code",
      "metadata": {
        "colab": {
          "base_uri": "https://localhost:8080/"
        },
        "id": "V3ESydPytWxT",
        "outputId": "47436a85-7315-4ced-e17b-6d25b866aea1"
      },
      "source": [
        "# Para poder visualizar el resultado podemos armar videos nuevos con los labels marcados (en este caso tambien agregue el esqueleto)\n",
        "\n",
        "deeplabcut.create_labeled_video(path_config_file,videofile_path, draw_skeleton = True, save_frames=True)"
      ],
      "execution_count": null,
      "outputs": [
        {
          "output_type": "stream",
          "name": "stdout",
          "text": [
            "Starting to process video: /content/drive/MyDrive/CAJAL DLC/sabri-sabri-2023-11-08/videos/0.avi\n",
            "Loading /content/drive/MyDrive/CAJAL DLC/sabri-sabri-2023-11-08/videos/0.avi and data.\n",
            "Duration of video [s]: 16.67, recorded with 60.0 fps!\n",
            "Overall # of frames: 1000 with cropped frame dimensions: 640 480\n",
            "Generating frames and creating video.\n"
          ]
        },
        {
          "output_type": "stream",
          "name": "stderr",
          "text": [
            "100%|██████████| 1000/1000 [04:11<00:00,  3.97it/s]\n"
          ]
        },
        {
          "output_type": "stream",
          "name": "stdout",
          "text": [
            "Labeled video /content/drive/MyDrive/CAJAL DLC/sabri-sabri-2023-11-08/videos/0DLC_resnet50_sabriNov8shuffle1_15000_labeled.mp4 successfully created.\n"
          ]
        },
        {
          "output_type": "execute_result",
          "data": {
            "text/plain": [
              "[True]"
            ]
          },
          "metadata": {},
          "execution_count": 12
        }
      ]
    },
    {
      "cell_type": "markdown",
      "source": [
        "## Refinamos nuestro modelo"
      ],
      "metadata": {
        "id": "lE1uct2f3lIs"
      }
    },
    {
      "cell_type": "code",
      "source": [
        "deeplabcut.extract_outlier_frames(path_config_file,videofile_path)"
      ],
      "metadata": {
        "id": "d4ascd2_J5hR"
      },
      "execution_count": null,
      "outputs": []
    },
    {
      "cell_type": "code",
      "source": [
        "#deeplabcut.refine_labels(path_config_file) # este paso no se puede hacr en colab!\n"
      ],
      "metadata": {
        "id": "60-7d3JyJ5W7"
      },
      "execution_count": null,
      "outputs": []
    },
    {
      "cell_type": "code",
      "source": [
        "deeplabcut.merge_datasets(path_config_file) #No se olviden de hacer esta parte!"
      ],
      "metadata": {
        "id": "gzlS2vBnzhLm"
      },
      "execution_count": null,
      "outputs": []
    },
    {
      "cell_type": "markdown",
      "source": [
        "## Si trabajamos con MultiAnimal:\n",
        "Cambian algunos comandos:"
      ],
      "metadata": {
        "id": "gOkCOWAy3sfX"
      }
    },
    {
      "cell_type": "code",
      "source": [
        "deeplabcut.convert_detections2tracklets(path_config_file,videofile_path, identity_only=True, overwrite = True)\n",
        "deeplabcut.stitch_tracklets(path_config_file,videofile_path)\n",
        "deeplabcut.plot_trajectories(path_config_file,videofile_path)"
      ],
      "metadata": {
        "id": "CA-UQCzUiTKh"
      },
      "execution_count": null,
      "outputs": []
    },
    {
      "cell_type": "markdown",
      "source": [
        "# DLC 2 KINEMATICS"
      ],
      "metadata": {
        "id": "J3soyhWGnllG"
      }
    },
    {
      "cell_type": "code",
      "source": [
        "!pip install dlc2kinematics"
      ],
      "metadata": {
        "id": "3rmSL-VjnqcN"
      },
      "execution_count": null,
      "outputs": []
    },
    {
      "cell_type": "code",
      "source": [
        "import dlc2kinematics #correr dos veces si se cierra la sesion"
      ],
      "metadata": {
        "id": "PtpEiwseNvOh"
      },
      "execution_count": null,
      "outputs": []
    },
    {
      "cell_type": "code",
      "source": [
        "\n",
        "path = '/content/drive/MyDrive/..../nombrearchivo.h5'\n",
        "df, bodyparts, scorer = dlc2kinematics.load_data(path)\n",
        "\n",
        "df_vel = dlc2kinematics.compute_velocity(df,bodyparts=['all']) #para todos los bodyparts\n",
        "#df_vel_head = dlc2kinematics.compute_velocity(df,bodyparts=['head']) #para el bodyparts que llame head\n",
        "\n",
        "dlc2kinematics.smooth_trajectory(df,bodyparts=['head'] ) #para smoothear la trayectoria"
      ],
      "metadata": {
        "id": "cJMl4IdinxHp"
      },
      "execution_count": null,
      "outputs": []
    },
    {
      "cell_type": "code",
      "source": [
        "df[scorer]['head'][df[scorer]['head']['likelihood' ]> 0.7]"
      ],
      "metadata": {
        "colab": {
          "base_uri": "https://localhost:8080/",
          "height": 423
        },
        "id": "hooqgacVyNRL",
        "outputId": "8d0d20a5-a82f-42c6-926b-0c743c961009"
      },
      "execution_count": null,
      "outputs": [
        {
          "output_type": "execute_result",
          "data": {
            "text/plain": [
              "coords           x           y  likelihood\n",
              "3       387.694794  326.562653    0.999278\n",
              "9       403.004578  309.588593    0.999416\n",
              "10      403.877319  305.830780    0.999821\n",
              "11      403.867828  304.242737    0.999687\n",
              "12      403.054840  299.908356    0.999369\n",
              "..             ...         ...         ...\n",
              "938     277.052551  190.932404    0.999848\n",
              "939     279.199951  193.136353    0.999876\n",
              "940     280.633301  195.978409    0.999807\n",
              "941     282.682831  198.040192    0.999688\n",
              "947     289.915924  200.785324    0.999123\n",
              "\n",
              "[431 rows x 3 columns]"
            ],
            "text/html": [
              "\n",
              "  <div id=\"df-e0bf33bb-5e64-4743-adf0-561f9fb9382d\" class=\"colab-df-container\">\n",
              "    <div>\n",
              "<style scoped>\n",
              "    .dataframe tbody tr th:only-of-type {\n",
              "        vertical-align: middle;\n",
              "    }\n",
              "\n",
              "    .dataframe tbody tr th {\n",
              "        vertical-align: top;\n",
              "    }\n",
              "\n",
              "    .dataframe thead th {\n",
              "        text-align: right;\n",
              "    }\n",
              "</style>\n",
              "<table border=\"1\" class=\"dataframe\">\n",
              "  <thead>\n",
              "    <tr style=\"text-align: right;\">\n",
              "      <th>coords</th>\n",
              "      <th>x</th>\n",
              "      <th>y</th>\n",
              "      <th>likelihood</th>\n",
              "    </tr>\n",
              "  </thead>\n",
              "  <tbody>\n",
              "    <tr>\n",
              "      <th>3</th>\n",
              "      <td>387.694794</td>\n",
              "      <td>326.562653</td>\n",
              "      <td>0.999278</td>\n",
              "    </tr>\n",
              "    <tr>\n",
              "      <th>9</th>\n",
              "      <td>403.004578</td>\n",
              "      <td>309.588593</td>\n",
              "      <td>0.999416</td>\n",
              "    </tr>\n",
              "    <tr>\n",
              "      <th>10</th>\n",
              "      <td>403.877319</td>\n",
              "      <td>305.830780</td>\n",
              "      <td>0.999821</td>\n",
              "    </tr>\n",
              "    <tr>\n",
              "      <th>11</th>\n",
              "      <td>403.867828</td>\n",
              "      <td>304.242737</td>\n",
              "      <td>0.999687</td>\n",
              "    </tr>\n",
              "    <tr>\n",
              "      <th>12</th>\n",
              "      <td>403.054840</td>\n",
              "      <td>299.908356</td>\n",
              "      <td>0.999369</td>\n",
              "    </tr>\n",
              "    <tr>\n",
              "      <th>...</th>\n",
              "      <td>...</td>\n",
              "      <td>...</td>\n",
              "      <td>...</td>\n",
              "    </tr>\n",
              "    <tr>\n",
              "      <th>938</th>\n",
              "      <td>277.052551</td>\n",
              "      <td>190.932404</td>\n",
              "      <td>0.999848</td>\n",
              "    </tr>\n",
              "    <tr>\n",
              "      <th>939</th>\n",
              "      <td>279.199951</td>\n",
              "      <td>193.136353</td>\n",
              "      <td>0.999876</td>\n",
              "    </tr>\n",
              "    <tr>\n",
              "      <th>940</th>\n",
              "      <td>280.633301</td>\n",
              "      <td>195.978409</td>\n",
              "      <td>0.999807</td>\n",
              "    </tr>\n",
              "    <tr>\n",
              "      <th>941</th>\n",
              "      <td>282.682831</td>\n",
              "      <td>198.040192</td>\n",
              "      <td>0.999688</td>\n",
              "    </tr>\n",
              "    <tr>\n",
              "      <th>947</th>\n",
              "      <td>289.915924</td>\n",
              "      <td>200.785324</td>\n",
              "      <td>0.999123</td>\n",
              "    </tr>\n",
              "  </tbody>\n",
              "</table>\n",
              "<p>431 rows × 3 columns</p>\n",
              "</div>\n",
              "    <div class=\"colab-df-buttons\">\n",
              "\n",
              "  <div class=\"colab-df-container\">\n",
              "    <button class=\"colab-df-convert\" onclick=\"convertToInteractive('df-e0bf33bb-5e64-4743-adf0-561f9fb9382d')\"\n",
              "            title=\"Convert this dataframe to an interactive table.\"\n",
              "            style=\"display:none;\">\n",
              "\n",
              "  <svg xmlns=\"http://www.w3.org/2000/svg\" height=\"24px\" viewBox=\"0 -960 960 960\">\n",
              "    <path d=\"M120-120v-720h720v720H120Zm60-500h600v-160H180v160Zm220 220h160v-160H400v160Zm0 220h160v-160H400v160ZM180-400h160v-160H180v160Zm440 0h160v-160H620v160ZM180-180h160v-160H180v160Zm440 0h160v-160H620v160Z\"/>\n",
              "  </svg>\n",
              "    </button>\n",
              "\n",
              "  <style>\n",
              "    .colab-df-container {\n",
              "      display:flex;\n",
              "      gap: 12px;\n",
              "    }\n",
              "\n",
              "    .colab-df-convert {\n",
              "      background-color: #E8F0FE;\n",
              "      border: none;\n",
              "      border-radius: 50%;\n",
              "      cursor: pointer;\n",
              "      display: none;\n",
              "      fill: #1967D2;\n",
              "      height: 32px;\n",
              "      padding: 0 0 0 0;\n",
              "      width: 32px;\n",
              "    }\n",
              "\n",
              "    .colab-df-convert:hover {\n",
              "      background-color: #E2EBFA;\n",
              "      box-shadow: 0px 1px 2px rgba(60, 64, 67, 0.3), 0px 1px 3px 1px rgba(60, 64, 67, 0.15);\n",
              "      fill: #174EA6;\n",
              "    }\n",
              "\n",
              "    .colab-df-buttons div {\n",
              "      margin-bottom: 4px;\n",
              "    }\n",
              "\n",
              "    [theme=dark] .colab-df-convert {\n",
              "      background-color: #3B4455;\n",
              "      fill: #D2E3FC;\n",
              "    }\n",
              "\n",
              "    [theme=dark] .colab-df-convert:hover {\n",
              "      background-color: #434B5C;\n",
              "      box-shadow: 0px 1px 3px 1px rgba(0, 0, 0, 0.15);\n",
              "      filter: drop-shadow(0px 1px 2px rgba(0, 0, 0, 0.3));\n",
              "      fill: #FFFFFF;\n",
              "    }\n",
              "  </style>\n",
              "\n",
              "    <script>\n",
              "      const buttonEl =\n",
              "        document.querySelector('#df-e0bf33bb-5e64-4743-adf0-561f9fb9382d button.colab-df-convert');\n",
              "      buttonEl.style.display =\n",
              "        google.colab.kernel.accessAllowed ? 'block' : 'none';\n",
              "\n",
              "      async function convertToInteractive(key) {\n",
              "        const element = document.querySelector('#df-e0bf33bb-5e64-4743-adf0-561f9fb9382d');\n",
              "        const dataTable =\n",
              "          await google.colab.kernel.invokeFunction('convertToInteractive',\n",
              "                                                    [key], {});\n",
              "        if (!dataTable) return;\n",
              "\n",
              "        const docLinkHtml = 'Like what you see? Visit the ' +\n",
              "          '<a target=\"_blank\" href=https://colab.research.google.com/notebooks/data_table.ipynb>data table notebook</a>'\n",
              "          + ' to learn more about interactive tables.';\n",
              "        element.innerHTML = '';\n",
              "        dataTable['output_type'] = 'display_data';\n",
              "        await google.colab.output.renderOutput(dataTable, element);\n",
              "        const docLink = document.createElement('div');\n",
              "        docLink.innerHTML = docLinkHtml;\n",
              "        element.appendChild(docLink);\n",
              "      }\n",
              "    </script>\n",
              "  </div>\n",
              "\n",
              "\n",
              "<div id=\"df-ccf992f3-a51c-4d8a-bfd7-d60ac8814e37\">\n",
              "  <button class=\"colab-df-quickchart\" onclick=\"quickchart('df-ccf992f3-a51c-4d8a-bfd7-d60ac8814e37')\"\n",
              "            title=\"Suggest charts\"\n",
              "            style=\"display:none;\">\n",
              "\n",
              "<svg xmlns=\"http://www.w3.org/2000/svg\" height=\"24px\"viewBox=\"0 0 24 24\"\n",
              "     width=\"24px\">\n",
              "    <g>\n",
              "        <path d=\"M19 3H5c-1.1 0-2 .9-2 2v14c0 1.1.9 2 2 2h14c1.1 0 2-.9 2-2V5c0-1.1-.9-2-2-2zM9 17H7v-7h2v7zm4 0h-2V7h2v10zm4 0h-2v-4h2v4z\"/>\n",
              "    </g>\n",
              "</svg>\n",
              "  </button>\n",
              "\n",
              "<style>\n",
              "  .colab-df-quickchart {\n",
              "      --bg-color: #E8F0FE;\n",
              "      --fill-color: #1967D2;\n",
              "      --hover-bg-color: #E2EBFA;\n",
              "      --hover-fill-color: #174EA6;\n",
              "      --disabled-fill-color: #AAA;\n",
              "      --disabled-bg-color: #DDD;\n",
              "  }\n",
              "\n",
              "  [theme=dark] .colab-df-quickchart {\n",
              "      --bg-color: #3B4455;\n",
              "      --fill-color: #D2E3FC;\n",
              "      --hover-bg-color: #434B5C;\n",
              "      --hover-fill-color: #FFFFFF;\n",
              "      --disabled-bg-color: #3B4455;\n",
              "      --disabled-fill-color: #666;\n",
              "  }\n",
              "\n",
              "  .colab-df-quickchart {\n",
              "    background-color: var(--bg-color);\n",
              "    border: none;\n",
              "    border-radius: 50%;\n",
              "    cursor: pointer;\n",
              "    display: none;\n",
              "    fill: var(--fill-color);\n",
              "    height: 32px;\n",
              "    padding: 0;\n",
              "    width: 32px;\n",
              "  }\n",
              "\n",
              "  .colab-df-quickchart:hover {\n",
              "    background-color: var(--hover-bg-color);\n",
              "    box-shadow: 0 1px 2px rgba(60, 64, 67, 0.3), 0 1px 3px 1px rgba(60, 64, 67, 0.15);\n",
              "    fill: var(--button-hover-fill-color);\n",
              "  }\n",
              "\n",
              "  .colab-df-quickchart-complete:disabled,\n",
              "  .colab-df-quickchart-complete:disabled:hover {\n",
              "    background-color: var(--disabled-bg-color);\n",
              "    fill: var(--disabled-fill-color);\n",
              "    box-shadow: none;\n",
              "  }\n",
              "\n",
              "  .colab-df-spinner {\n",
              "    border: 2px solid var(--fill-color);\n",
              "    border-color: transparent;\n",
              "    border-bottom-color: var(--fill-color);\n",
              "    animation:\n",
              "      spin 1s steps(1) infinite;\n",
              "  }\n",
              "\n",
              "  @keyframes spin {\n",
              "    0% {\n",
              "      border-color: transparent;\n",
              "      border-bottom-color: var(--fill-color);\n",
              "      border-left-color: var(--fill-color);\n",
              "    }\n",
              "    20% {\n",
              "      border-color: transparent;\n",
              "      border-left-color: var(--fill-color);\n",
              "      border-top-color: var(--fill-color);\n",
              "    }\n",
              "    30% {\n",
              "      border-color: transparent;\n",
              "      border-left-color: var(--fill-color);\n",
              "      border-top-color: var(--fill-color);\n",
              "      border-right-color: var(--fill-color);\n",
              "    }\n",
              "    40% {\n",
              "      border-color: transparent;\n",
              "      border-right-color: var(--fill-color);\n",
              "      border-top-color: var(--fill-color);\n",
              "    }\n",
              "    60% {\n",
              "      border-color: transparent;\n",
              "      border-right-color: var(--fill-color);\n",
              "    }\n",
              "    80% {\n",
              "      border-color: transparent;\n",
              "      border-right-color: var(--fill-color);\n",
              "      border-bottom-color: var(--fill-color);\n",
              "    }\n",
              "    90% {\n",
              "      border-color: transparent;\n",
              "      border-bottom-color: var(--fill-color);\n",
              "    }\n",
              "  }\n",
              "</style>\n",
              "\n",
              "  <script>\n",
              "    async function quickchart(key) {\n",
              "      const quickchartButtonEl =\n",
              "        document.querySelector('#' + key + ' button');\n",
              "      quickchartButtonEl.disabled = true;  // To prevent multiple clicks.\n",
              "      quickchartButtonEl.classList.add('colab-df-spinner');\n",
              "      try {\n",
              "        const charts = await google.colab.kernel.invokeFunction(\n",
              "            'suggestCharts', [key], {});\n",
              "      } catch (error) {\n",
              "        console.error('Error during call to suggestCharts:', error);\n",
              "      }\n",
              "      quickchartButtonEl.classList.remove('colab-df-spinner');\n",
              "      quickchartButtonEl.classList.add('colab-df-quickchart-complete');\n",
              "    }\n",
              "    (() => {\n",
              "      let quickchartButtonEl =\n",
              "        document.querySelector('#df-ccf992f3-a51c-4d8a-bfd7-d60ac8814e37 button');\n",
              "      quickchartButtonEl.style.display =\n",
              "        google.colab.kernel.accessAllowed ? 'block' : 'none';\n",
              "    })();\n",
              "  </script>\n",
              "</div>\n",
              "    </div>\n",
              "  </div>\n"
            ]
          },
          "metadata": {},
          "execution_count": 28
        }
      ]
    },
    {
      "cell_type": "code",
      "source": [
        "bodyparts"
      ],
      "metadata": {
        "colab": {
          "base_uri": "https://localhost:8080/"
        },
        "id": "KIHuz4-By-lB",
        "outputId": "95ae513c-9423-41d7-cdc3-531b7653c654"
      },
      "execution_count": null,
      "outputs": [
        {
          "output_type": "execute_result",
          "data": {
            "text/plain": [
              "['head', 'body', 'tail']"
            ]
          },
          "metadata": {},
          "execution_count": 7
        }
      ]
    },
    {
      "cell_type": "code",
      "source": [
        "#datos_head_smooth = dlc2kinematics.smooth_trajectory(df,bodyparts=['head'],filter_window=3000, order=1000 )[scorer]['head']\n",
        "\n"
      ],
      "metadata": {
        "id": "iPWxQWSMtL0U"
      },
      "execution_count": 1,
      "outputs": []
    },
    {
      "cell_type": "code",
      "source": [
        "dlc2kinematics.smooth_trajectory?"
      ],
      "metadata": {
        "id": "Y9naklXetprx"
      },
      "execution_count": null,
      "outputs": []
    },
    {
      "cell_type": "code",
      "source": [
        "import matplotlib.pyplot as plt\n",
        "plt.plot(list(df[scorer][bodyparts[0]]['x']),list(df[scorer][bodyparts[0]]['y']))\n",
        "plt.plot(list(datos_head_smooth['x']),list(datos_head_smooth['y']))\n",
        "#agregar las flechitas para la direc de mov"
      ],
      "metadata": {
        "colab": {
          "base_uri": "https://localhost:8080/",
          "height": 447
        },
        "id": "mJSEKfN5zBJF",
        "outputId": "843a1f77-15fe-4e2a-e08d-c863039bc3d9"
      },
      "execution_count": null,
      "outputs": [
        {
          "output_type": "execute_result",
          "data": {
            "text/plain": [
              "[<matplotlib.lines.Line2D at 0x7f1722d9fdf0>]"
            ]
          },
          "metadata": {},
          "execution_count": 24
        },
        {
          "output_type": "display_data",
          "data": {
            "text/plain": [
              "<Figure size 640x480 with 1 Axes>"
            ],
            "image/png": "[encoded data removed]"
          },
          "metadata": {}
        }
      ]
    },
    {
      "cell_type": "code",
      "source": [
        "plt.plot(list(datos_head_smooth['x']))\n",
        "plt.plot(list(df[scorer][bodyparts[0]]['x']))"
      ],
      "metadata": {
        "colab": {
          "base_uri": "https://localhost:8080/",
          "height": 447
        },
        "id": "eF3TV1wbt6zq",
        "outputId": "1a3181a7-53c0-4a48-cb7e-edcfdf938afd"
      },
      "execution_count": null,
      "outputs": [
        {
          "output_type": "execute_result",
          "data": {
            "text/plain": [
              "[<matplotlib.lines.Line2D at 0x7f172343c910>]"
            ]
          },
          "metadata": {},
          "execution_count": 21
        },
        {
          "output_type": "display_data",
          "data": {
            "text/plain": [
              "<Figure size 640x480 with 1 Axes>"
            ],
            "image/png": "[encoded data removed]"
          },
          "metadata": {}
        }
      ]
    },
    {
      "cell_type": "code",
      "source": [
        "# pasar a distancia\n",
        "xp = list(df[scorer][bodyparts[0]]['x'])\n",
        "dist_en_pixeles = max(xp) - min(xp)\n",
        "\n"
      ],
      "metadata": {
        "colab": {
          "base_uri": "https://localhost:8080/"
        },
        "id": "x89j1rUtAJjI",
        "outputId": "a83ddc3b-44d3-489c-aef2-09006b335b6c"
      },
      "execution_count": null,
      "outputs": [
        {
          "output_type": "execute_result",
          "data": {
            "text/plain": [
              "252.80039978027344"
            ]
          },
          "metadata": {},
          "execution_count": 33
        }
      ]
    },
    {
      "cell_type": "code",
      "source": [
        "df_sin_scorer = df[scorer]\n",
        "df_sin_scorer"
      ],
      "metadata": {
        "colab": {
          "base_uri": "https://localhost:8080/",
          "height": 455
        },
        "id": "bumWf53PAs33",
        "outputId": "04b22487-4536-40b2-a3e5-ab31dbbf4674"
      },
      "execution_count": null,
      "outputs": [
        {
          "output_type": "execute_result",
          "data": {
            "text/plain": [
              "bodyparts        head                               body              \\\n",
              "coords              x           y likelihood           x           y   \n",
              "0          286.691711  220.722153   0.999998  272.326660  224.238281   \n",
              "1          293.295746  218.484039   1.000000  276.797760  221.913116   \n",
              "2          296.572662  218.509094   0.999997  283.596832  221.437576   \n",
              "3          303.764130  218.399231   0.999999  288.510284  221.495453   \n",
              "4          311.248718  218.659851   0.999999  295.750275  220.359375   \n",
              "...               ...         ...        ...         ...         ...   \n",
              "8812       444.406616  329.003815   0.999999  447.159363  339.204224   \n",
              "8813       444.859863  327.991821   0.999999  447.833710  339.530975   \n",
              "8814       446.315796  328.531464   0.999999  448.692596  340.530884   \n",
              "8815       449.556976  327.746246   1.000000  449.262024  339.664673   \n",
              "8816       455.141418  326.593262   1.000000  449.660431  339.218933   \n",
              "\n",
              "bodyparts                   tail                         \n",
              "coords    likelihood           x           y likelihood  \n",
              "0           1.000000  259.114716  228.677460   1.000000  \n",
              "1           1.000000  260.952942  223.955994   0.999998  \n",
              "2           0.999996  266.607025  227.071075   0.999999  \n",
              "3           1.000000  274.492126  228.064560   1.000000  \n",
              "4           0.999999  279.069946  223.771667   0.999999  \n",
              "...              ...         ...         ...        ...  \n",
              "8812        1.000000  452.866150  348.204346   1.000000  \n",
              "8813        1.000000  454.222656  349.655579   1.000000  \n",
              "8814        1.000000  455.434052  351.375854   1.000000  \n",
              "8815        1.000000  455.344360  351.664001   1.000000  \n",
              "8816        0.999998  455.219116  351.336731   0.999999  \n",
              "\n",
              "[8817 rows x 9 columns]"
            ],
            "text/html": [
              "\n",
              "  <div id=\"df-50e2babd-6bda-4ad2-97a7-ef35d7b7e53d\">\n",
              "    <div class=\"colab-df-container\">\n",
              "      <div>\n",
              "<style scoped>\n",
              "    .dataframe tbody tr th:only-of-type {\n",
              "        vertical-align: middle;\n",
              "    }\n",
              "\n",
              "    .dataframe tbody tr th {\n",
              "        vertical-align: top;\n",
              "    }\n",
              "\n",
              "    .dataframe thead tr th {\n",
              "        text-align: left;\n",
              "    }\n",
              "</style>\n",
              "<table border=\"1\" class=\"dataframe\">\n",
              "  <thead>\n",
              "    <tr>\n",
              "      <th>bodyparts</th>\n",
              "      <th colspan=\"3\" halign=\"left\">head</th>\n",
              "      <th colspan=\"3\" halign=\"left\">body</th>\n",
              "      <th colspan=\"3\" halign=\"left\">tail</th>\n",
              "    </tr>\n",
              "    <tr>\n",
              "      <th>coords</th>\n",
              "      <th>x</th>\n",
              "      <th>y</th>\n",
              "      <th>likelihood</th>\n",
              "      <th>x</th>\n",
              "      <th>y</th>\n",
              "      <th>likelihood</th>\n",
              "      <th>x</th>\n",
              "      <th>y</th>\n",
              "      <th>likelihood</th>\n",
              "    </tr>\n",
              "  </thead>\n",
              "  <tbody>\n",
              "    <tr>\n",
              "      <th>0</th>\n",
              "      <td>286.691711</td>\n",
              "      <td>220.722153</td>\n",
              "      <td>0.999998</td>\n",
              "      <td>272.326660</td>\n",
              "      <td>224.238281</td>\n",
              "      <td>1.000000</td>\n",
              "      <td>259.114716</td>\n",
              "      <td>228.677460</td>\n",
              "      <td>1.000000</td>\n",
              "    </tr>\n",
              "    <tr>\n",
              "      <th>1</th>\n",
              "      <td>293.295746</td>\n",
              "      <td>218.484039</td>\n",
              "      <td>1.000000</td>\n",
              "      <td>276.797760</td>\n",
              "      <td>221.913116</td>\n",
              "      <td>1.000000</td>\n",
              "      <td>260.952942</td>\n",
              "      <td>223.955994</td>\n",
              "      <td>0.999998</td>\n",
              "    </tr>\n",
              "    <tr>\n",
              "      <th>2</th>\n",
              "      <td>296.572662</td>\n",
              "      <td>218.509094</td>\n",
              "      <td>0.999997</td>\n",
              "      <td>283.596832</td>\n",
              "      <td>221.437576</td>\n",
              "      <td>0.999996</td>\n",
              "      <td>266.607025</td>\n",
              "      <td>227.071075</td>\n",
              "      <td>0.999999</td>\n",
              "    </tr>\n",
              "    <tr>\n",
              "      <th>3</th>\n",
              "      <td>303.764130</td>\n",
              "      <td>218.399231</td>\n",
              "      <td>0.999999</td>\n",
              "      <td>288.510284</td>\n",
              "      <td>221.495453</td>\n",
              "      <td>1.000000</td>\n",
              "      <td>274.492126</td>\n",
              "      <td>228.064560</td>\n",
              "      <td>1.000000</td>\n",
              "    </tr>\n",
              "    <tr>\n",
              "      <th>4</th>\n",
              "      <td>311.248718</td>\n",
              "      <td>218.659851</td>\n",
              "      <td>0.999999</td>\n",
              "      <td>295.750275</td>\n",
              "      <td>220.359375</td>\n",
              "      <td>0.999999</td>\n",
              "      <td>279.069946</td>\n",
              "      <td>223.771667</td>\n",
              "      <td>0.999999</td>\n",
              "    </tr>\n",
              "    <tr>\n",
              "      <th>...</th>\n",
              "      <td>...</td>\n",
              "      <td>...</td>\n",
              "      <td>...</td>\n",
              "      <td>...</td>\n",
              "      <td>...</td>\n",
              "      <td>...</td>\n",
              "      <td>...</td>\n",
              "      <td>...</td>\n",
              "      <td>...</td>\n",
              "    </tr>\n",
              "    <tr>\n",
              "      <th>8812</th>\n",
              "      <td>444.406616</td>\n",
              "      <td>329.003815</td>\n",
              "      <td>0.999999</td>\n",
              "      <td>447.159363</td>\n",
              "      <td>339.204224</td>\n",
              "      <td>1.000000</td>\n",
              "      <td>452.866150</td>\n",
              "      <td>348.204346</td>\n",
              "      <td>1.000000</td>\n",
              "    </tr>\n",
              "    <tr>\n",
              "      <th>8813</th>\n",
              "      <td>444.859863</td>\n",
              "      <td>327.991821</td>\n",
              "      <td>0.999999</td>\n",
              "      <td>447.833710</td>\n",
              "      <td>339.530975</td>\n",
              "      <td>1.000000</td>\n",
              "      <td>454.222656</td>\n",
              "      <td>349.655579</td>\n",
              "      <td>1.000000</td>\n",
              "    </tr>\n",
              "    <tr>\n",
              "      <th>8814</th>\n",
              "      <td>446.315796</td>\n",
              "      <td>328.531464</td>\n",
              "      <td>0.999999</td>\n",
              "      <td>448.692596</td>\n",
              "      <td>340.530884</td>\n",
              "      <td>1.000000</td>\n",
              "      <td>455.434052</td>\n",
              "      <td>351.375854</td>\n",
              "      <td>1.000000</td>\n",
              "    </tr>\n",
              "    <tr>\n",
              "      <th>8815</th>\n",
              "      <td>449.556976</td>\n",
              "      <td>327.746246</td>\n",
              "      <td>1.000000</td>\n",
              "      <td>449.262024</td>\n",
              "      <td>339.664673</td>\n",
              "      <td>1.000000</td>\n",
              "      <td>455.344360</td>\n",
              "      <td>351.664001</td>\n",
              "      <td>1.000000</td>\n",
              "    </tr>\n",
              "    <tr>\n",
              "      <th>8816</th>\n",
              "      <td>455.141418</td>\n",
              "      <td>326.593262</td>\n",
              "      <td>1.000000</td>\n",
              "      <td>449.660431</td>\n",
              "      <td>339.218933</td>\n",
              "      <td>0.999998</td>\n",
              "      <td>455.219116</td>\n",
              "      <td>351.336731</td>\n",
              "      <td>0.999999</td>\n",
              "    </tr>\n",
              "  </tbody>\n",
              "</table>\n",
              "<p>8817 rows × 9 columns</p>\n",
              "</div>\n",
              "      <button class=\"colab-df-convert\" onclick=\"convertToInteractive('df-50e2babd-6bda-4ad2-97a7-ef35d7b7e53d')\"\n",
              "              title=\"Convert this dataframe to an interactive table.\"\n",
              "              style=\"display:none;\">\n",
              "        \n",
              "  <svg xmlns=\"http://www.w3.org/2000/svg\" height=\"24px\"viewBox=\"0 0 24 24\"\n",
              "       width=\"24px\">\n",
              "    <path d=\"M0 0h24v24H0V0z\" fill=\"none\"/>\n",
              "    <path d=\"M18.56 5.44l.94 2.06.94-2.06 2.06-.94-2.06-.94-.94-2.06-.94 2.06-2.06.94zm-11 1L8.5 8.5l.94-2.06 2.06-.94-2.06-.94L8.5 2.5l-.94 2.06-2.06.94zm10 10l.94 2.06.94-2.06 2.06-.94-2.06-.94-.94-2.06-.94 2.06-2.06.94z\"/><path d=\"M17.41 7.96l-1.37-1.37c-.4-.4-.92-.59-1.43-.59-.52 0-1.04.2-1.43.59L10.3 9.45l-7.72 7.72c-.78.78-.78 2.05 0 2.83L4 21.41c.39.39.9.59 1.41.59.51 0 1.02-.2 1.41-.59l7.78-7.78 2.81-2.81c.8-.78.8-2.07 0-2.86zM5.41 20L4 18.59l7.72-7.72 1.47 1.35L5.41 20z\"/>\n",
              "  </svg>\n",
              "      </button>\n",
              "      \n",
              "  <style>\n",
              "    .colab-df-container {\n",
              "      display:flex;\n",
              "      flex-wrap:wrap;\n",
              "      gap: 12px;\n",
              "    }\n",
              "\n",
              "    .colab-df-convert {\n",
              "      background-color: #E8F0FE;\n",
              "      border: none;\n",
              "      border-radius: 50%;\n",
              "      cursor: pointer;\n",
              "      display: none;\n",
              "      fill: #1967D2;\n",
              "      height: 32px;\n",
              "      padding: 0 0 0 0;\n",
              "      width: 32px;\n",
              "    }\n",
              "\n",
              "    .colab-df-convert:hover {\n",
              "      background-color: #E2EBFA;\n",
              "      box-shadow: 0px 1px 2px rgba(60, 64, 67, 0.3), 0px 1px 3px 1px rgba(60, 64, 67, 0.15);\n",
              "      fill: #174EA6;\n",
              "    }\n",
              "\n",
              "    [theme=dark] .colab-df-convert {\n",
              "      background-color: #3B4455;\n",
              "      fill: #D2E3FC;\n",
              "    }\n",
              "\n",
              "    [theme=dark] .colab-df-convert:hover {\n",
              "      background-color: #434B5C;\n",
              "      box-shadow: 0px 1px 3px 1px rgba(0, 0, 0, 0.15);\n",
              "      filter: drop-shadow(0px 1px 2px rgba(0, 0, 0, 0.3));\n",
              "      fill: #FFFFFF;\n",
              "    }\n",
              "  </style>\n",
              "\n",
              "      <script>\n",
              "        const buttonEl =\n",
              "          document.querySelector('#df-50e2babd-6bda-4ad2-97a7-ef35d7b7e53d button.colab-df-convert');\n",
              "        buttonEl.style.display =\n",
              "          google.colab.kernel.accessAllowed ? 'block' : 'none';\n",
              "\n",
              "        async function convertToInteractive(key) {\n",
              "          const element = document.querySelector('#df-50e2babd-6bda-4ad2-97a7-ef35d7b7e53d');\n",
              "          const dataTable =\n",
              "            await google.colab.kernel.invokeFunction('convertToInteractive',\n",
              "                                                     [key], {});\n",
              "          if (!dataTable) return;\n",
              "\n",
              "          const docLinkHtml = 'Like what you see? Visit the ' +\n",
              "            '<a target=\"_blank\" href=https://colab.research.google.com/notebooks/data_table.ipynb>data table notebook</a>'\n",
              "            + ' to learn more about interactive tables.';\n",
              "          element.innerHTML = '';\n",
              "          dataTable['output_type'] = 'display_data';\n",
              "          await google.colab.output.renderOutput(dataTable, element);\n",
              "          const docLink = document.createElement('div');\n",
              "          docLink.innerHTML = docLinkHtml;\n",
              "          element.appendChild(docLink);\n",
              "        }\n",
              "      </script>\n",
              "    </div>\n",
              "  </div>\n",
              "  "
            ]
          },
          "metadata": {},
          "execution_count": 32
        }
      ]
    },
    {
      "cell_type": "code",
      "source": [
        "#import numpy as np\n",
        "\n",
        "#vel_mod = np.sqrt(df_vel_head[scorer][bodyparts[0]]['x']**2 + df_vel_head[scorer][bodyparts[0]]['y']**2)\n",
        "\n",
        "#plt.plot(vel_mod)"
      ],
      "metadata": {
        "id": "tpsX2ohfAj75"
      },
      "execution_count": null,
      "outputs": []
    },
    {
      "cell_type": "markdown",
      "source": [
        "# kinematics multiAnimal"
      ],
      "metadata": {
        "id": "iIwKGScXN-uX"
      }
    },
    {
      "cell_type": "code",
      "source": [
        "!pip install dlc2kinematics"
      ],
      "metadata": {
        "id": "H9RpMBxBOCOX"
      },
      "execution_count": null,
      "outputs": []
    },
    {
      "cell_type": "code",
      "source": [
        "import dlc2kinematics #correrlo dos veces"
      ],
      "metadata": {
        "id": "mSIBPlSJOEJe"
      },
      "execution_count": null,
      "outputs": []
    },
    {
      "cell_type": "code",
      "source": [
        "path = 'Trial1DLC_dlcrnetms5_pruebadia2Nov7shuffle1_60000_el.h5'\n",
        "df, bodyparts, scorer = dlc2kinematics.load_data(path)\n",
        "ind = 'individual1'\n",
        "cabeza = 'cabeza' #bodyparts[0]\n",
        "df"
      ],
      "metadata": {
        "colab": {
          "base_uri": "https://localhost:8080/",
          "height": 537
        },
        "id": "vk8wrvrsOBZW",
        "outputId": "65d36375-d267-49d2-d661-ab518ef396f2"
      },
      "execution_count": null,
      "outputs": [
        {
          "output_type": "execute_result",
          "data": {
            "text/plain": [
              "scorer      DLC_dlcrnetms5_pruebadia2Nov7shuffle1_60000                      \\\n",
              "individuals                                 individual1                       \n",
              "bodyparts                                        cabeza                       \n",
              "coords                                                x        y likelihood   \n",
              "0                                               335.039  245.983        1.0   \n",
              "1                                               334.986  244.789        1.0   \n",
              "2                                               337.437  249.817        1.0   \n",
              "3                                               339.827  247.132        1.0   \n",
              "4                                               341.499  243.207        1.0   \n",
              "...                                                 ...      ...        ...   \n",
              "7503                                            343.581  212.227        1.0   \n",
              "7504                                            343.722  210.757        1.0   \n",
              "7505                                            344.223  209.107        1.0   \n",
              "7506                                            342.903  209.326        1.0   \n",
              "7507                                            343.044  208.588        1.0   \n",
              "\n",
              "scorer                                                                 \\\n",
              "individuals                                                             \n",
              "bodyparts     cuerpo                         cola                       \n",
              "coords             x        y likelihood        x        y likelihood   \n",
              "0            332.591  260.599        1.0  325.976  287.494        1.0   \n",
              "1            333.074  259.028        1.0  328.073  285.412        1.0   \n",
              "2            334.411  266.493        1.0  331.325  283.762        1.0   \n",
              "3            333.634  264.297        1.0  332.260  280.059        1.0   \n",
              "4            334.137  260.984        1.0  332.547  277.814        1.0   \n",
              "...              ...      ...        ...      ...      ...        ...   \n",
              "7503         344.209  228.295        1.0  354.556  237.661        1.0   \n",
              "7504         344.735  227.710        1.0  355.021  237.506        1.0   \n",
              "7505         345.011  226.371        1.0  354.635  237.014        1.0   \n",
              "7506         345.677  225.220        1.0  354.705  236.430        1.0   \n",
              "7507         348.410  223.642        1.0  354.406  235.785        1.0   \n",
              "\n",
              "scorer                                                                    \\\n",
              "individuals individual2                                                    \n",
              "bodyparts        cabeza                       cuerpo                       \n",
              "coords                x        y likelihood        x        y likelihood   \n",
              "0               417.033  151.668        1.0  435.204  150.149        1.0   \n",
              "1               413.962  152.384        1.0  433.529  149.392        1.0   \n",
              "2               411.090  152.120        1.0  430.165  148.806        1.0   \n",
              "3               409.068  151.842        1.0  428.250  148.145        1.0   \n",
              "4               406.960  150.799        1.0  428.047  154.413        1.0   \n",
              "...                 ...      ...        ...      ...      ...        ...   \n",
              "7503            561.583  128.400        1.0  550.547  133.943        1.0   \n",
              "7504            562.216  126.569        1.0  550.654  134.546        1.0   \n",
              "7505            562.499  128.575        1.0  550.787  134.417        1.0   \n",
              "7506            562.749  126.549        1.0  551.014  134.473        1.0   \n",
              "7507            562.820  128.434        1.0  550.960  134.387        1.0   \n",
              "\n",
              "scorer                                    \n",
              "individuals                               \n",
              "bodyparts       cola                      \n",
              "coords             x        y likelihood  \n",
              "0            444.700  161.154        1.0  \n",
              "1            443.849  160.492        1.0  \n",
              "2            445.135  158.916        1.0  \n",
              "3            444.027  159.264        1.0  \n",
              "4            442.600  158.613        1.0  \n",
              "...              ...      ...        ...  \n",
              "7503         541.549  147.147        1.0  \n",
              "7504         541.474  147.396        1.0  \n",
              "7505         541.407  147.310        1.0  \n",
              "7506         541.115  147.420        1.0  \n",
              "7507         541.046  147.447        1.0  \n",
              "\n",
              "[7508 rows x 18 columns]"
            ],
            "text/html": [
              "\n",
              "  <div id=\"df-c6d95c5b-8850-4a61-9f65-becf5735aae4\" class=\"colab-df-container\">\n",
              "    <div>\n",
              "<style scoped>\n",
              "    .dataframe tbody tr th:only-of-type {\n",
              "        vertical-align: middle;\n",
              "    }\n",
              "\n",
              "    .dataframe tbody tr th {\n",
              "        vertical-align: top;\n",
              "    }\n",
              "\n",
              "    .dataframe thead tr th {\n",
              "        text-align: left;\n",
              "    }\n",
              "</style>\n",
              "<table border=\"1\" class=\"dataframe\">\n",
              "  <thead>\n",
              "    <tr>\n",
              "      <th>scorer</th>\n",
              "      <th colspan=\"18\" halign=\"left\">DLC_dlcrnetms5_pruebadia2Nov7shuffle1_60000</th>\n",
              "    </tr>\n",
              "    <tr>\n",
              "      <th>individuals</th>\n",
              "      <th colspan=\"9\" halign=\"left\">individual1</th>\n",
              "      <th colspan=\"9\" halign=\"left\">individual2</th>\n",
              "    </tr>\n",
              "    <tr>\n",
              "      <th>bodyparts</th>\n",
              "      <th colspan=\"3\" halign=\"left\">cabeza</th>\n",
              "      <th colspan=\"3\" halign=\"left\">cuerpo</th>\n",
              "      <th colspan=\"3\" halign=\"left\">cola</th>\n",
              "      <th colspan=\"3\" halign=\"left\">cabeza</th>\n",
              "      <th colspan=\"3\" halign=\"left\">cuerpo</th>\n",
              "      <th colspan=\"3\" halign=\"left\">cola</th>\n",
              "    </tr>\n",
              "    <tr>\n",
              "      <th>coords</th>\n",
              "      <th>x</th>\n",
              "      <th>y</th>\n",
              "      <th>likelihood</th>\n",
              "      <th>x</th>\n",
              "      <th>y</th>\n",
              "      <th>likelihood</th>\n",
              "      <th>x</th>\n",
              "      <th>y</th>\n",
              "      <th>likelihood</th>\n",
              "      <th>x</th>\n",
              "      <th>y</th>\n",
              "      <th>likelihood</th>\n",
              "      <th>x</th>\n",
              "      <th>y</th>\n",
              "      <th>likelihood</th>\n",
              "      <th>x</th>\n",
              "      <th>y</th>\n",
              "      <th>likelihood</th>\n",
              "    </tr>\n",
              "  </thead>\n",
              "  <tbody>\n",
              "    <tr>\n",
              "      <th>0</th>\n",
              "      <td>335.039</td>\n",
              "      <td>245.983</td>\n",
              "      <td>1.0</td>\n",
              "      <td>332.591</td>\n",
              "      <td>260.599</td>\n",
              "      <td>1.0</td>\n",
              "      <td>325.976</td>\n",
              "      <td>287.494</td>\n",
              "      <td>1.0</td>\n",
              "      <td>417.033</td>\n",
              "      <td>151.668</td>\n",
              "      <td>1.0</td>\n",
              "      <td>435.204</td>\n",
              "      <td>150.149</td>\n",
              "      <td>1.0</td>\n",
              "      <td>444.700</td>\n",
              "      <td>161.154</td>\n",
              "      <td>1.0</td>\n",
              "    </tr>\n",
              "    <tr>\n",
              "      <th>1</th>\n",
              "      <td>334.986</td>\n",
              "      <td>244.789</td>\n",
              "      <td>1.0</td>\n",
              "      <td>333.074</td>\n",
              "      <td>259.028</td>\n",
              "      <td>1.0</td>\n",
              "      <td>328.073</td>\n",
              "      <td>285.412</td>\n",
              "      <td>1.0</td>\n",
              "      <td>413.962</td>\n",
              "      <td>152.384</td>\n",
              "      <td>1.0</td>\n",
              "      <td>433.529</td>\n",
              "      <td>149.392</td>\n",
              "      <td>1.0</td>\n",
              "      <td>443.849</td>\n",
              "      <td>160.492</td>\n",
              "      <td>1.0</td>\n",
              "    </tr>\n",
              "    <tr>\n",
              "      <th>2</th>\n",
              "      <td>337.437</td>\n",
              "      <td>249.817</td>\n",
              "      <td>1.0</td>\n",
              "      <td>334.411</td>\n",
              "      <td>266.493</td>\n",
              "      <td>1.0</td>\n",
              "      <td>331.325</td>\n",
              "      <td>283.762</td>\n",
              "      <td>1.0</td>\n",
              "      <td>411.090</td>\n",
              "      <td>152.120</td>\n",
              "      <td>1.0</td>\n",
              "      <td>430.165</td>\n",
              "      <td>148.806</td>\n",
              "      <td>1.0</td>\n",
              "      <td>445.135</td>\n",
              "      <td>158.916</td>\n",
              "      <td>1.0</td>\n",
              "    </tr>\n",
              "    <tr>\n",
              "      <th>3</th>\n",
              "      <td>339.827</td>\n",
              "      <td>247.132</td>\n",
              "      <td>1.0</td>\n",
              "      <td>333.634</td>\n",
              "      <td>264.297</td>\n",
              "      <td>1.0</td>\n",
              "      <td>332.260</td>\n",
              "      <td>280.059</td>\n",
              "      <td>1.0</td>\n",
              "      <td>409.068</td>\n",
              "      <td>151.842</td>\n",
              "      <td>1.0</td>\n",
              "      <td>428.250</td>\n",
              "      <td>148.145</td>\n",
              "      <td>1.0</td>\n",
              "      <td>444.027</td>\n",
              "      <td>159.264</td>\n",
              "      <td>1.0</td>\n",
              "    </tr>\n",
              "    <tr>\n",
              "      <th>4</th>\n",
              "      <td>341.499</td>\n",
              "      <td>243.207</td>\n",
              "      <td>1.0</td>\n",
              "      <td>334.137</td>\n",
              "      <td>260.984</td>\n",
              "      <td>1.0</td>\n",
              "      <td>332.547</td>\n",
              "      <td>277.814</td>\n",
              "      <td>1.0</td>\n",
              "      <td>406.960</td>\n",
              "      <td>150.799</td>\n",
              "      <td>1.0</td>\n",
              "      <td>428.047</td>\n",
              "      <td>154.413</td>\n",
              "      <td>1.0</td>\n",
              "      <td>442.600</td>\n",
              "      <td>158.613</td>\n",
              "      <td>1.0</td>\n",
              "    </tr>\n",
              "    <tr>\n",
              "      <th>...</th>\n",
              "      <td>...</td>\n",
              "      <td>...</td>\n",
              "      <td>...</td>\n",
              "      <td>...</td>\n",
              "      <td>...</td>\n",
              "      <td>...</td>\n",
              "      <td>...</td>\n",
              "      <td>...</td>\n",
              "      <td>...</td>\n",
              "      <td>...</td>\n",
              "      <td>...</td>\n",
              "      <td>...</td>\n",
              "      <td>...</td>\n",
              "      <td>...</td>\n",
              "      <td>...</td>\n",
              "      <td>...</td>\n",
              "      <td>...</td>\n",
              "      <td>...</td>\n",
              "    </tr>\n",
              "    <tr>\n",
              "      <th>7503</th>\n",
              "      <td>343.581</td>\n",
              "      <td>212.227</td>\n",
              "      <td>1.0</td>\n",
              "      <td>344.209</td>\n",
              "      <td>228.295</td>\n",
              "      <td>1.0</td>\n",
              "      <td>354.556</td>\n",
              "      <td>237.661</td>\n",
              "      <td>1.0</td>\n",
              "      <td>561.583</td>\n",
              "      <td>128.400</td>\n",
              "      <td>1.0</td>\n",
              "      <td>550.547</td>\n",
              "      <td>133.943</td>\n",
              "      <td>1.0</td>\n",
              "      <td>541.549</td>\n",
              "      <td>147.147</td>\n",
              "      <td>1.0</td>\n",
              "    </tr>\n",
              "    <tr>\n",
              "      <th>7504</th>\n",
              "      <td>343.722</td>\n",
              "      <td>210.757</td>\n",
              "      <td>1.0</td>\n",
              "      <td>344.735</td>\n",
              "      <td>227.710</td>\n",
              "      <td>1.0</td>\n",
              "      <td>355.021</td>\n",
              "      <td>237.506</td>\n",
              "      <td>1.0</td>\n",
              "      <td>562.216</td>\n",
              "      <td>126.569</td>\n",
              "      <td>1.0</td>\n",
              "      <td>550.654</td>\n",
              "      <td>134.546</td>\n",
              "      <td>1.0</td>\n",
              "      <td>541.474</td>\n",
              "      <td>147.396</td>\n",
              "      <td>1.0</td>\n",
              "    </tr>\n",
              "    <tr>\n",
              "      <th>7505</th>\n",
              "      <td>344.223</td>\n",
              "      <td>209.107</td>\n",
              "      <td>1.0</td>\n",
              "      <td>345.011</td>\n",
              "      <td>226.371</td>\n",
              "      <td>1.0</td>\n",
              "      <td>354.635</td>\n",
              "      <td>237.014</td>\n",
              "      <td>1.0</td>\n",
              "      <td>562.499</td>\n",
              "      <td>128.575</td>\n",
              "      <td>1.0</td>\n",
              "      <td>550.787</td>\n",
              "      <td>134.417</td>\n",
              "      <td>1.0</td>\n",
              "      <td>541.407</td>\n",
              "      <td>147.310</td>\n",
              "      <td>1.0</td>\n",
              "    </tr>\n",
              "    <tr>\n",
              "      <th>7506</th>\n",
              "      <td>342.903</td>\n",
              "      <td>209.326</td>\n",
              "      <td>1.0</td>\n",
              "      <td>345.677</td>\n",
              "      <td>225.220</td>\n",
              "      <td>1.0</td>\n",
              "      <td>354.705</td>\n",
              "      <td>236.430</td>\n",
              "      <td>1.0</td>\n",
              "      <td>562.749</td>\n",
              "      <td>126.549</td>\n",
              "      <td>1.0</td>\n",
              "      <td>551.014</td>\n",
              "      <td>134.473</td>\n",
              "      <td>1.0</td>\n",
              "      <td>541.115</td>\n",
              "      <td>147.420</td>\n",
              "      <td>1.0</td>\n",
              "    </tr>\n",
              "    <tr>\n",
              "      <th>7507</th>\n",
              "      <td>343.044</td>\n",
              "      <td>208.588</td>\n",
              "      <td>1.0</td>\n",
              "      <td>348.410</td>\n",
              "      <td>223.642</td>\n",
              "      <td>1.0</td>\n",
              "      <td>354.406</td>\n",
              "      <td>235.785</td>\n",
              "      <td>1.0</td>\n",
              "      <td>562.820</td>\n",
              "      <td>128.434</td>\n",
              "      <td>1.0</td>\n",
              "      <td>550.960</td>\n",
              "      <td>134.387</td>\n",
              "      <td>1.0</td>\n",
              "      <td>541.046</td>\n",
              "      <td>147.447</td>\n",
              "      <td>1.0</td>\n",
              "    </tr>\n",
              "  </tbody>\n",
              "</table>\n",
              "<p>7508 rows × 18 columns</p>\n",
              "</div>\n",
              "    <div class=\"colab-df-buttons\">\n",
              "\n",
              "  <div class=\"colab-df-container\">\n",
              "    <button class=\"colab-df-convert\" onclick=\"convertToInteractive('df-c6d95c5b-8850-4a61-9f65-becf5735aae4')\"\n",
              "            title=\"Convert this dataframe to an interactive table.\"\n",
              "            style=\"display:none;\">\n",
              "\n",
              "  <svg xmlns=\"http://www.w3.org/2000/svg\" height=\"24px\" viewBox=\"0 -960 960 960\">\n",
              "    <path d=\"M120-120v-720h720v720H120Zm60-500h600v-160H180v160Zm220 220h160v-160H400v160Zm0 220h160v-160H400v160ZM180-400h160v-160H180v160Zm440 0h160v-160H620v160ZM180-180h160v-160H180v160Zm440 0h160v-160H620v160Z\"/>\n",
              "  </svg>\n",
              "    </button>\n",
              "\n",
              "  <style>\n",
              "    .colab-df-container {\n",
              "      display:flex;\n",
              "      gap: 12px;\n",
              "    }\n",
              "\n",
              "    .colab-df-convert {\n",
              "      background-color: #E8F0FE;\n",
              "      border: none;\n",
              "      border-radius: 50%;\n",
              "      cursor: pointer;\n",
              "      display: none;\n",
              "      fill: #1967D2;\n",
              "      height: 32px;\n",
              "      padding: 0 0 0 0;\n",
              "      width: 32px;\n",
              "    }\n",
              "\n",
              "    .colab-df-convert:hover {\n",
              "      background-color: #E2EBFA;\n",
              "      box-shadow: 0px 1px 2px rgba(60, 64, 67, 0.3), 0px 1px 3px 1px rgba(60, 64, 67, 0.15);\n",
              "      fill: #174EA6;\n",
              "    }\n",
              "\n",
              "    .colab-df-buttons div {\n",
              "      margin-bottom: 4px;\n",
              "    }\n",
              "\n",
              "    [theme=dark] .colab-df-convert {\n",
              "      background-color: #3B4455;\n",
              "      fill: #D2E3FC;\n",
              "    }\n",
              "\n",
              "    [theme=dark] .colab-df-convert:hover {\n",
              "      background-color: #434B5C;\n",
              "      box-shadow: 0px 1px 3px 1px rgba(0, 0, 0, 0.15);\n",
              "      filter: drop-shadow(0px 1px 2px rgba(0, 0, 0, 0.3));\n",
              "      fill: #FFFFFF;\n",
              "    }\n",
              "  </style>\n",
              "\n",
              "    <script>\n",
              "      const buttonEl =\n",
              "        document.querySelector('#df-c6d95c5b-8850-4a61-9f65-becf5735aae4 button.colab-df-convert');\n",
              "      buttonEl.style.display =\n",
              "        google.colab.kernel.accessAllowed ? 'block' : 'none';\n",
              "\n",
              "      async function convertToInteractive(key) {\n",
              "        const element = document.querySelector('#df-c6d95c5b-8850-4a61-9f65-becf5735aae4');\n",
              "        const dataTable =\n",
              "          await google.colab.kernel.invokeFunction('convertToInteractive',\n",
              "                                                    [key], {});\n",
              "        if (!dataTable) return;\n",
              "\n",
              "        const docLinkHtml = 'Like what you see? Visit the ' +\n",
              "          '<a target=\"_blank\" href=https://colab.research.google.com/notebooks/data_table.ipynb>data table notebook</a>'\n",
              "          + ' to learn more about interactive tables.';\n",
              "        element.innerHTML = '';\n",
              "        dataTable['output_type'] = 'display_data';\n",
              "        await google.colab.output.renderOutput(dataTable, element);\n",
              "        const docLink = document.createElement('div');\n",
              "        docLink.innerHTML = docLinkHtml;\n",
              "        element.appendChild(docLink);\n",
              "      }\n",
              "    </script>\n",
              "  </div>\n",
              "\n",
              "\n",
              "<div id=\"df-af75a09e-6dc5-49d8-8d33-5cd49def1f4a\">\n",
              "  <button class=\"colab-df-quickchart\" onclick=\"quickchart('df-af75a09e-6dc5-49d8-8d33-5cd49def1f4a')\"\n",
              "            title=\"Suggest charts\"\n",
              "            style=\"display:none;\">\n",
              "\n",
              "<svg xmlns=\"http://www.w3.org/2000/svg\" height=\"24px\"viewBox=\"0 0 24 24\"\n",
              "     width=\"24px\">\n",
              "    <g>\n",
              "        <path d=\"M19 3H5c-1.1 0-2 .9-2 2v14c0 1.1.9 2 2 2h14c1.1 0 2-.9 2-2V5c0-1.1-.9-2-2-2zM9 17H7v-7h2v7zm4 0h-2V7h2v10zm4 0h-2v-4h2v4z\"/>\n",
              "    </g>\n",
              "</svg>\n",
              "  </button>\n",
              "\n",
              "<style>\n",
              "  .colab-df-quickchart {\n",
              "      --bg-color: #E8F0FE;\n",
              "      --fill-color: #1967D2;\n",
              "      --hover-bg-color: #E2EBFA;\n",
              "      --hover-fill-color: #174EA6;\n",
              "      --disabled-fill-color: #AAA;\n",
              "      --disabled-bg-color: #DDD;\n",
              "  }\n",
              "\n",
              "  [theme=dark] .colab-df-quickchart {\n",
              "      --bg-color: #3B4455;\n",
              "      --fill-color: #D2E3FC;\n",
              "      --hover-bg-color: #434B5C;\n",
              "      --hover-fill-color: #FFFFFF;\n",
              "      --disabled-bg-color: #3B4455;\n",
              "      --disabled-fill-color: #666;\n",
              "  }\n",
              "\n",
              "  .colab-df-quickchart {\n",
              "    background-color: var(--bg-color);\n",
              "    border: none;\n",
              "    border-radius: 50%;\n",
              "    cursor: pointer;\n",
              "    display: none;\n",
              "    fill: var(--fill-color);\n",
              "    height: 32px;\n",
              "    padding: 0;\n",
              "    width: 32px;\n",
              "  }\n",
              "\n",
              "  .colab-df-quickchart:hover {\n",
              "    background-color: var(--hover-bg-color);\n",
              "    box-shadow: 0 1px 2px rgba(60, 64, 67, 0.3), 0 1px 3px 1px rgba(60, 64, 67, 0.15);\n",
              "    fill: var(--button-hover-fill-color);\n",
              "  }\n",
              "\n",
              "  .colab-df-quickchart-complete:disabled,\n",
              "  .colab-df-quickchart-complete:disabled:hover {\n",
              "    background-color: var(--disabled-bg-color);\n",
              "    fill: var(--disabled-fill-color);\n",
              "    box-shadow: none;\n",
              "  }\n",
              "\n",
              "  .colab-df-spinner {\n",
              "    border: 2px solid var(--fill-color);\n",
              "    border-color: transparent;\n",
              "    border-bottom-color: var(--fill-color);\n",
              "    animation:\n",
              "      spin 1s steps(1) infinite;\n",
              "  }\n",
              "\n",
              "  @keyframes spin {\n",
              "    0% {\n",
              "      border-color: transparent;\n",
              "      border-bottom-color: var(--fill-color);\n",
              "      border-left-color: var(--fill-color);\n",
              "    }\n",
              "    20% {\n",
              "      border-color: transparent;\n",
              "      border-left-color: var(--fill-color);\n",
              "      border-top-color: var(--fill-color);\n",
              "    }\n",
              "    30% {\n",
              "      border-color: transparent;\n",
              "      border-left-color: var(--fill-color);\n",
              "      border-top-color: var(--fill-color);\n",
              "      border-right-color: var(--fill-color);\n",
              "    }\n",
              "    40% {\n",
              "      border-color: transparent;\n",
              "      border-right-color: var(--fill-color);\n",
              "      border-top-color: var(--fill-color);\n",
              "    }\n",
              "    60% {\n",
              "      border-color: transparent;\n",
              "      border-right-color: var(--fill-color);\n",
              "    }\n",
              "    80% {\n",
              "      border-color: transparent;\n",
              "      border-right-color: var(--fill-color);\n",
              "      border-bottom-color: var(--fill-color);\n",
              "    }\n",
              "    90% {\n",
              "      border-color: transparent;\n",
              "      border-bottom-color: var(--fill-color);\n",
              "    }\n",
              "  }\n",
              "</style>\n",
              "\n",
              "  <script>\n",
              "    async function quickchart(key) {\n",
              "      const quickchartButtonEl =\n",
              "        document.querySelector('#' + key + ' button');\n",
              "      quickchartButtonEl.disabled = true;  // To prevent multiple clicks.\n",
              "      quickchartButtonEl.classList.add('colab-df-spinner');\n",
              "      try {\n",
              "        const charts = await google.colab.kernel.invokeFunction(\n",
              "            'suggestCharts', [key], {});\n",
              "      } catch (error) {\n",
              "        console.error('Error during call to suggestCharts:', error);\n",
              "      }\n",
              "      quickchartButtonEl.classList.remove('colab-df-spinner');\n",
              "      quickchartButtonEl.classList.add('colab-df-quickchart-complete');\n",
              "    }\n",
              "    (() => {\n",
              "      let quickchartButtonEl =\n",
              "        document.querySelector('#df-af75a09e-6dc5-49d8-8d33-5cd49def1f4a button');\n",
              "      quickchartButtonEl.style.display =\n",
              "        google.colab.kernel.accessAllowed ? 'block' : 'none';\n",
              "    })();\n",
              "  </script>\n",
              "</div>\n",
              "    </div>\n",
              "  </div>\n"
            ]
          },
          "metadata": {},
          "execution_count": 19
        }
      ]
    },
    {
      "cell_type": "code",
      "source": [
        "df[scorer][ind][cabeza]"
      ],
      "metadata": {
        "id": "Uuj50YkzOIhy"
      },
      "execution_count": null,
      "outputs": []
    }
  ]
}